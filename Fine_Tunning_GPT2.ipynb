{
  "nbformat": 4,
  "nbformat_minor": 0,
  "metadata": {
    "colab": {
      "provenance": [],
      "gpuType": "T4"
    },
    "kernelspec": {
      "name": "python3",
      "display_name": "Python 3"
    },
    "language_info": {
      "name": "python"
    },
    "accelerator": "GPU",
    "widgets": {
      "application/vnd.jupyter.widget-state+json": {
        "d8ff83958b694b02a1d3b5444cdfeb74": {
          "model_module": "@jupyter-widgets/controls",
          "model_name": "HBoxModel",
          "model_module_version": "1.5.0",
          "state": {
            "_dom_classes": [],
            "_model_module": "@jupyter-widgets/controls",
            "_model_module_version": "1.5.0",
            "_model_name": "HBoxModel",
            "_view_count": null,
            "_view_module": "@jupyter-widgets/controls",
            "_view_module_version": "1.5.0",
            "_view_name": "HBoxView",
            "box_style": "",
            "children": [
              "IPY_MODEL_80a589172c6a4f56be170e17a9713a0e",
              "IPY_MODEL_e57a5ee0c20e476e85c2396453f62c8d",
              "IPY_MODEL_d4d4c9d943934b4b87fa2bdffdec3f79"
            ],
            "layout": "IPY_MODEL_f9d97c8e19934a4788502a847bb7ecd2"
          }
        },
        "80a589172c6a4f56be170e17a9713a0e": {
          "model_module": "@jupyter-widgets/controls",
          "model_name": "HTMLModel",
          "model_module_version": "1.5.0",
          "state": {
            "_dom_classes": [],
            "_model_module": "@jupyter-widgets/controls",
            "_model_module_version": "1.5.0",
            "_model_name": "HTMLModel",
            "_view_count": null,
            "_view_module": "@jupyter-widgets/controls",
            "_view_module_version": "1.5.0",
            "_view_name": "HTMLView",
            "description": "",
            "description_tooltip": null,
            "layout": "IPY_MODEL_4106f31a41634fec8784e1c285587b61",
            "placeholder": "​",
            "style": "IPY_MODEL_5efcc28f7f6042b3ad15ce7d0b257d09",
            "value": "Map: 100%"
          }
        },
        "e57a5ee0c20e476e85c2396453f62c8d": {
          "model_module": "@jupyter-widgets/controls",
          "model_name": "FloatProgressModel",
          "model_module_version": "1.5.0",
          "state": {
            "_dom_classes": [],
            "_model_module": "@jupyter-widgets/controls",
            "_model_module_version": "1.5.0",
            "_model_name": "FloatProgressModel",
            "_view_count": null,
            "_view_module": "@jupyter-widgets/controls",
            "_view_module_version": "1.5.0",
            "_view_name": "ProgressView",
            "bar_style": "success",
            "description": "",
            "description_tooltip": null,
            "layout": "IPY_MODEL_1f7dec6c059a409c8c633fc304a5f30b",
            "max": 51,
            "min": 0,
            "orientation": "horizontal",
            "style": "IPY_MODEL_5c2ad18db3f048bca048bea3e1e091a7",
            "value": 51
          }
        },
        "d4d4c9d943934b4b87fa2bdffdec3f79": {
          "model_module": "@jupyter-widgets/controls",
          "model_name": "HTMLModel",
          "model_module_version": "1.5.0",
          "state": {
            "_dom_classes": [],
            "_model_module": "@jupyter-widgets/controls",
            "_model_module_version": "1.5.0",
            "_model_name": "HTMLModel",
            "_view_count": null,
            "_view_module": "@jupyter-widgets/controls",
            "_view_module_version": "1.5.0",
            "_view_name": "HTMLView",
            "description": "",
            "description_tooltip": null,
            "layout": "IPY_MODEL_148f7bb78ab948e6ba4765d2ad2f226e",
            "placeholder": "​",
            "style": "IPY_MODEL_9fa78d2770334178a42603f42e4d8d07",
            "value": " 51/51 [00:00&lt;00:00, 876.25 examples/s]"
          }
        },
        "f9d97c8e19934a4788502a847bb7ecd2": {
          "model_module": "@jupyter-widgets/base",
          "model_name": "LayoutModel",
          "model_module_version": "1.2.0",
          "state": {
            "_model_module": "@jupyter-widgets/base",
            "_model_module_version": "1.2.0",
            "_model_name": "LayoutModel",
            "_view_count": null,
            "_view_module": "@jupyter-widgets/base",
            "_view_module_version": "1.2.0",
            "_view_name": "LayoutView",
            "align_content": null,
            "align_items": null,
            "align_self": null,
            "border": null,
            "bottom": null,
            "display": null,
            "flex": null,
            "flex_flow": null,
            "grid_area": null,
            "grid_auto_columns": null,
            "grid_auto_flow": null,
            "grid_auto_rows": null,
            "grid_column": null,
            "grid_gap": null,
            "grid_row": null,
            "grid_template_areas": null,
            "grid_template_columns": null,
            "grid_template_rows": null,
            "height": null,
            "justify_content": null,
            "justify_items": null,
            "left": null,
            "margin": null,
            "max_height": null,
            "max_width": null,
            "min_height": null,
            "min_width": null,
            "object_fit": null,
            "object_position": null,
            "order": null,
            "overflow": null,
            "overflow_x": null,
            "overflow_y": null,
            "padding": null,
            "right": null,
            "top": null,
            "visibility": null,
            "width": null
          }
        },
        "4106f31a41634fec8784e1c285587b61": {
          "model_module": "@jupyter-widgets/base",
          "model_name": "LayoutModel",
          "model_module_version": "1.2.0",
          "state": {
            "_model_module": "@jupyter-widgets/base",
            "_model_module_version": "1.2.0",
            "_model_name": "LayoutModel",
            "_view_count": null,
            "_view_module": "@jupyter-widgets/base",
            "_view_module_version": "1.2.0",
            "_view_name": "LayoutView",
            "align_content": null,
            "align_items": null,
            "align_self": null,
            "border": null,
            "bottom": null,
            "display": null,
            "flex": null,
            "flex_flow": null,
            "grid_area": null,
            "grid_auto_columns": null,
            "grid_auto_flow": null,
            "grid_auto_rows": null,
            "grid_column": null,
            "grid_gap": null,
            "grid_row": null,
            "grid_template_areas": null,
            "grid_template_columns": null,
            "grid_template_rows": null,
            "height": null,
            "justify_content": null,
            "justify_items": null,
            "left": null,
            "margin": null,
            "max_height": null,
            "max_width": null,
            "min_height": null,
            "min_width": null,
            "object_fit": null,
            "object_position": null,
            "order": null,
            "overflow": null,
            "overflow_x": null,
            "overflow_y": null,
            "padding": null,
            "right": null,
            "top": null,
            "visibility": null,
            "width": null
          }
        },
        "5efcc28f7f6042b3ad15ce7d0b257d09": {
          "model_module": "@jupyter-widgets/controls",
          "model_name": "DescriptionStyleModel",
          "model_module_version": "1.5.0",
          "state": {
            "_model_module": "@jupyter-widgets/controls",
            "_model_module_version": "1.5.0",
            "_model_name": "DescriptionStyleModel",
            "_view_count": null,
            "_view_module": "@jupyter-widgets/base",
            "_view_module_version": "1.2.0",
            "_view_name": "StyleView",
            "description_width": ""
          }
        },
        "1f7dec6c059a409c8c633fc304a5f30b": {
          "model_module": "@jupyter-widgets/base",
          "model_name": "LayoutModel",
          "model_module_version": "1.2.0",
          "state": {
            "_model_module": "@jupyter-widgets/base",
            "_model_module_version": "1.2.0",
            "_model_name": "LayoutModel",
            "_view_count": null,
            "_view_module": "@jupyter-widgets/base",
            "_view_module_version": "1.2.0",
            "_view_name": "LayoutView",
            "align_content": null,
            "align_items": null,
            "align_self": null,
            "border": null,
            "bottom": null,
            "display": null,
            "flex": null,
            "flex_flow": null,
            "grid_area": null,
            "grid_auto_columns": null,
            "grid_auto_flow": null,
            "grid_auto_rows": null,
            "grid_column": null,
            "grid_gap": null,
            "grid_row": null,
            "grid_template_areas": null,
            "grid_template_columns": null,
            "grid_template_rows": null,
            "height": null,
            "justify_content": null,
            "justify_items": null,
            "left": null,
            "margin": null,
            "max_height": null,
            "max_width": null,
            "min_height": null,
            "min_width": null,
            "object_fit": null,
            "object_position": null,
            "order": null,
            "overflow": null,
            "overflow_x": null,
            "overflow_y": null,
            "padding": null,
            "right": null,
            "top": null,
            "visibility": null,
            "width": null
          }
        },
        "5c2ad18db3f048bca048bea3e1e091a7": {
          "model_module": "@jupyter-widgets/controls",
          "model_name": "ProgressStyleModel",
          "model_module_version": "1.5.0",
          "state": {
            "_model_module": "@jupyter-widgets/controls",
            "_model_module_version": "1.5.0",
            "_model_name": "ProgressStyleModel",
            "_view_count": null,
            "_view_module": "@jupyter-widgets/base",
            "_view_module_version": "1.2.0",
            "_view_name": "StyleView",
            "bar_color": null,
            "description_width": ""
          }
        },
        "148f7bb78ab948e6ba4765d2ad2f226e": {
          "model_module": "@jupyter-widgets/base",
          "model_name": "LayoutModel",
          "model_module_version": "1.2.0",
          "state": {
            "_model_module": "@jupyter-widgets/base",
            "_model_module_version": "1.2.0",
            "_model_name": "LayoutModel",
            "_view_count": null,
            "_view_module": "@jupyter-widgets/base",
            "_view_module_version": "1.2.0",
            "_view_name": "LayoutView",
            "align_content": null,
            "align_items": null,
            "align_self": null,
            "border": null,
            "bottom": null,
            "display": null,
            "flex": null,
            "flex_flow": null,
            "grid_area": null,
            "grid_auto_columns": null,
            "grid_auto_flow": null,
            "grid_auto_rows": null,
            "grid_column": null,
            "grid_gap": null,
            "grid_row": null,
            "grid_template_areas": null,
            "grid_template_columns": null,
            "grid_template_rows": null,
            "height": null,
            "justify_content": null,
            "justify_items": null,
            "left": null,
            "margin": null,
            "max_height": null,
            "max_width": null,
            "min_height": null,
            "min_width": null,
            "object_fit": null,
            "object_position": null,
            "order": null,
            "overflow": null,
            "overflow_x": null,
            "overflow_y": null,
            "padding": null,
            "right": null,
            "top": null,
            "visibility": null,
            "width": null
          }
        },
        "9fa78d2770334178a42603f42e4d8d07": {
          "model_module": "@jupyter-widgets/controls",
          "model_name": "DescriptionStyleModel",
          "model_module_version": "1.5.0",
          "state": {
            "_model_module": "@jupyter-widgets/controls",
            "_model_module_version": "1.5.0",
            "_model_name": "DescriptionStyleModel",
            "_view_count": null,
            "_view_module": "@jupyter-widgets/base",
            "_view_module_version": "1.2.0",
            "_view_name": "StyleView",
            "description_width": ""
          }
        }
      }
    }
  },
  "cells": [
    {
      "cell_type": "markdown",
      "source": [
        "# Haircut shop Query answering using Finetuned LLM"
      ],
      "metadata": {
        "id": "h42PlKDMnQWJ"
      }
    },
    {
      "cell_type": "code",
      "source": [
        "queries = [\n",
        "    \"When is the least crowded time for a haircut?\",\n",
        "    \"What types of haircuts do you offer?\",\n",
        "    \"Do you provide home service for haircuts?\",\n",
        "    \"How much does a fade haircut cost?\",\n",
        "    \"Can I book an appointment for Sunday?\",\n",
        "    \"Who is your best barber?\",\n",
        "    \"Do you offer discounts for students?\",\n",
        "    \"How long does a haircut take?\",\n",
        "    \"Can I cancel my appointment?\",\n",
        "    \"Do you offer beard trimming?\",\n",
        "    \"What are your working hours?\",\n",
        "    \"Do I need to make an appointment, or do you accept walk-ins?\",\n",
        "    \"Can I request a specific barber?\",\n",
        "    \"Do you offer hair coloring services?\",\n",
        "    \"Is there an additional charge for long hair?\",\n",
        "    \"Do you cut children's hair?\",\n",
        "    \"Do you offer senior citizen discounts?\",\n",
        "    \"What payment methods do you accept?\",\n",
        "    \"Can I tip my barber using a card payment?\",\n",
        "    \"Do you sell hair care products?\",\n",
        "    \"How often should I get a haircut?\",\n",
        "    \"Can I bring my own hair products for the service?\",\n",
        "    \"Do you offer scalp treatments?\",\n",
        "    \"Do you offer wedding or special event hair styling?\",\n",
        "    \"Do you provide hair washing before the cut?\",\n",
        "    \"Can I get a haircut if I have dandruff or scalp issues?\",\n",
        "    \"Do you offer keratin or hair smoothing treatments?\",\n",
        "    \"What is the price of a basic men's haircut?\",\n",
        "    \"Do you offer women's haircuts as well?\",\n",
        "    \"Do you have loyalty programs or membership discounts?\",\n",
        "    \"Can I reschedule my appointment?\",\n",
        "    \"Do you offer head massages?\",\n",
        "    \"Do you provide eyebrow trimming services?\",\n",
        "    \"What safety measures do you follow for hygiene?\",\n",
        "    \"Can I get a consultation before deciding on a haircut?\",\n",
        "    \"Do you have a waiting area with Wi-Fi?\",\n",
        "    \"Can I bring my pet to the salon?\",\n",
        "    \"Do you offer kids' haircut packages?\",\n",
        "    \"What happens if I'm late for my appointment?\",\n",
        "    \"Can I donate my hair after a haircut?\",\n",
        "    \"Do you offer hairstyling tutorials or workshops?\",\n",
        "    \"Do you provide services for special needs customers?\",\n",
        "    \"How do I book an appointment online?\",\n",
        "    \"Do you have a mobile app for booking?\",\n",
        "    \"Can I get a refund if I don’t like my haircut?\",\n",
        "    \"Can I get a haircut if I have recently dyed my hair?\",\n",
        "    \"Do you offer perms or curly hair treatments?\",\n",
        "    \"Do you provide straight razor shaves?\",\n",
        "    \"Can I book a haircut for multiple people at once?\",\n",
        "    \"Do you offer seasonal promotions or holiday discounts?\",\n",
        "    \"What is your cancellation policy?\"\n",
        "]\n",
        "\n",
        "responses = [\n",
        "    \"Mornings on weekdays (Monday to Thursday) are usually less busy.\",\n",
        "    \"We offer buzz cuts, fades, crew cuts, undercuts, and many more styles.\",\n",
        "    \"Yes, we offer home services. You can book through our website.\",\n",
        "    \"A fade haircut costs $30.\",\n",
        "    \"Yes, we are open on Sundays. What time would you prefer?\",\n",
        "    \"John is our most experienced barber with 10 years of experience.\",\n",
        "    \"Yes, students get a 15% discount on all services.\",\n",
        "    \"A standard haircut takes about 30-45 minutes.\",\n",
        "    \"Yes, you can cancel your appointment 24 hours in advance.\",\n",
        "    \"Yes, beard trimming is available for $15.\",\n",
        "    \"We are open from 9 AM to 8 PM, Monday to Saturday, and 10 AM to 6 PM on Sundays.\",\n",
        "    \"Walk-ins are welcome, but appointments are recommended for guaranteed service.\",\n",
        "    \"Yes, you can request a specific barber while booking your appointment.\",\n",
        "    \"Yes, we provide hair coloring services starting at $50.\",\n",
        "    \"Yes, long hair services may have an additional charge depending on the length.\",\n",
        "    \"Yes, we cut children's hair and have a special area for kids.\",\n",
        "    \"Yes, senior citizens get a 10% discount on all services.\",\n",
        "    \"We accept cash, credit/debit cards, and digital wallets like Apple Pay and Google Pay.\",\n",
        "    \"Yes, you can tip your barber using a card or cash.\",\n",
        "    \"Yes, we sell shampoos, conditioners, and styling products from top brands.\",\n",
        "    \"It depends on your hair type, but generally, every 4-6 weeks is recommended.\",\n",
        "    \"Yes, you can bring your own hair products if you prefer.\",\n",
        "    \"Yes, we offer scalp treatments for dry or oily scalp issues.\",\n",
        "    \"Yes, we provide wedding and event hairstyling upon prior booking.\",\n",
        "    \"Yes, we wash your hair before the cut unless requested otherwise.\",\n",
        "    \"Yes, but we recommend consulting with our barber to check the condition of your scalp.\",\n",
        "    \"Yes, we offer keratin treatments for frizz-free and smooth hair.\",\n",
        "    \"A basic men's haircut starts at $25.\",\n",
        "    \"Yes, we offer women's haircuts, including layers, bobs, and more.\",\n",
        "    \"Yes, we have a loyalty program where you earn points for every service.\",\n",
        "    \"Yes, you can reschedule your appointment up to 12 hours in advance.\",\n",
        "    \"Yes, we offer head massages as an add-on service.\",\n",
        "    \"Yes, we provide eyebrow trimming for $10.\",\n",
        "    \"We use sterilized tools, clean capes, and follow strict sanitation protocols.\",\n",
        "    \"Yes, we offer free consultations to discuss hairstyle options.\",\n",
        "    \"Yes, we have a comfortable waiting area with free Wi-Fi and magazines.\",\n",
        "    \"We love pets, but for hygiene reasons, only service animals are allowed.\",\n",
        "    \"Yes, we offer special kids' haircut packages with fun styling options.\",\n",
        "    \"If you're more than 10 minutes late, we may need to reschedule your appointment.\",\n",
        "    \"Yes, we accept hair donations for charities like Locks of Love.\",\n",
        "    \"Yes, we occasionally hold hairstyling workshops and tutorials.\",\n",
        "    \"Yes, we provide services tailored for customers with special needs.\",\n",
        "    \"You can book an appointment through our website or by calling us.\",\n",
        "    \"Yes, we have a mobile app where you can book and manage appointments.\",\n",
        "    \"If you're unsatisfied with your haircut, we offer free touch-ups within 7 days.\",\n",
        "    \"Yes, but we recommend waiting at least 2 weeks after dyeing before cutting.\",\n",
        "    \"Yes, we provide perms, wave styling, and curly hair treatments.\",\n",
        "    \"Yes, we offer straight razor shaves for a classic barber experience.\",\n",
        "    \"Yes, you can book group appointments for families or friends.\",\n",
        "    \"Yes, we run promotions during holidays and special events.\",\n",
        "    \"Cancellations must be made at least 24 hours in advance to avoid a fee.\"\n",
        "]\n",
        "\n",
        "print(\"Length of queries: \", len(queries))\n",
        "print(\"Length of responses: \", len(responses))"
      ],
      "metadata": {
        "colab": {
          "base_uri": "https://localhost:8080/"
        },
        "id": "T3n7wxd0qF0T",
        "outputId": "abefafad-e2fe-40ca-dee3-1fe023433bb1"
      },
      "execution_count": 25,
      "outputs": [
        {
          "output_type": "stream",
          "name": "stdout",
          "text": [
            "Length of queries:  51\n",
            "Length of responses:  51\n"
          ]
        }
      ]
    },
    {
      "cell_type": "code",
      "source": [
        "import pandas as pd\n",
        "from datasets import Dataset\n",
        "\n",
        "# Format data as prompt-response\n",
        "df = pd.DataFrame({\n",
        "    \"text\": [\"Question: \" + q + \"\\nAnswer: \" + r for q, r in zip(queries, responses)]\n",
        "})\n",
        "\n",
        "# Convert to Hugging Face dataset\n",
        "dataset = Dataset.from_pandas(df)\n"
      ],
      "metadata": {
        "id": "wg8mGXgnnQFY"
      },
      "execution_count": 26,
      "outputs": []
    },
    {
      "cell_type": "code",
      "source": [
        "from transformers import AutoTokenizer\n",
        "\n",
        "tokenizer = AutoTokenizer.from_pretrained(\"gpt2\")\n",
        "tokenizer.pad_token = tokenizer.eos_token  # Required for GPT-2 padding\n",
        "\n",
        "# Tokenization function\n",
        "def tokenize_function(examples):\n",
        "    return tokenizer(examples[\"text\"], padding=\"max_length\", truncation=True)\n",
        "\n",
        "# Tokenize dataset\n",
        "tokenized_datasets = dataset.map(tokenize_function, batched=True)\n"
      ],
      "metadata": {
        "colab": {
          "base_uri": "https://localhost:8080/",
          "height": 49,
          "referenced_widgets": [
            "d8ff83958b694b02a1d3b5444cdfeb74",
            "80a589172c6a4f56be170e17a9713a0e",
            "e57a5ee0c20e476e85c2396453f62c8d",
            "d4d4c9d943934b4b87fa2bdffdec3f79",
            "f9d97c8e19934a4788502a847bb7ecd2",
            "4106f31a41634fec8784e1c285587b61",
            "5efcc28f7f6042b3ad15ce7d0b257d09",
            "1f7dec6c059a409c8c633fc304a5f30b",
            "5c2ad18db3f048bca048bea3e1e091a7",
            "148f7bb78ab948e6ba4765d2ad2f226e",
            "9fa78d2770334178a42603f42e4d8d07"
          ]
        },
        "id": "0_RKFzDUnYgO",
        "outputId": "89dded26-7088-49f6-c637-af4cd6c28dc5"
      },
      "execution_count": 27,
      "outputs": [
        {
          "output_type": "display_data",
          "data": {
            "text/plain": [
              "Map:   0%|          | 0/51 [00:00<?, ? examples/s]"
            ],
            "application/vnd.jupyter.widget-view+json": {
              "version_major": 2,
              "version_minor": 0,
              "model_id": "d8ff83958b694b02a1d3b5444cdfeb74"
            }
          },
          "metadata": {}
        }
      ]
    },
    {
      "cell_type": "code",
      "source": [
        "from transformers import AutoModelForCausalLM, TrainingArguments, Trainer, DataCollatorForLanguageModeling\n",
        "\n",
        "# Load model\n",
        "model = AutoModelForCausalLM.from_pretrained(\"gpt2\")\n",
        "model.resize_token_embeddings(len(tokenizer))  # Update vocab size if needed\n",
        "\n",
        "# Training setup\n",
        "training_args = TrainingArguments(\n",
        "    output_dir=\"./results\",\n",
        "    per_device_train_batch_size=4,\n",
        "    num_train_epochs=10,\n",
        "    save_strategy=\"epoch\",\n",
        "    logging_dir=\"./logs\",\n",
        "    logging_steps=10,\n",
        "    report_to=\"none\"\n",
        ")\n",
        "\n",
        "# Language modeling collator (no masked LM)\n",
        "data_collator = DataCollatorForLanguageModeling(tokenizer=tokenizer, mlm=False)\n",
        "\n",
        "# Trainer\n",
        "trainer = Trainer(\n",
        "    model=model,\n",
        "    args=training_args,\n",
        "    train_dataset=tokenized_datasets,\n",
        "    data_collator=data_collator,\n",
        ")\n",
        "\n",
        "# Start fine-tuning\n",
        "trainer.train()\n",
        "\n",
        "# Save model\n",
        "trainer.save_model(\"./fine_tuned_gpt2\")\n",
        "tokenizer.save_pretrained(\"./fine_tuned_gpt2\")\n"
      ],
      "metadata": {
        "colab": {
          "base_uri": "https://localhost:8080/",
          "height": 587
        },
        "id": "mvjGST0jnaeu",
        "outputId": "6e6aae57-29b7-429a-f59a-a93dd511232b"
      },
      "execution_count": 28,
      "outputs": [
        {
          "output_type": "display_data",
          "data": {
            "text/plain": [
              "<IPython.core.display.HTML object>"
            ],
            "text/html": [
              "\n",
              "    <div>\n",
              "      \n",
              "      <progress value='130' max='130' style='width:300px; height:20px; vertical-align: middle;'></progress>\n",
              "      [130/130 06:20, Epoch 10/10]\n",
              "    </div>\n",
              "    <table border=\"1\" class=\"dataframe\">\n",
              "  <thead>\n",
              " <tr style=\"text-align: left;\">\n",
              "      <th>Step</th>\n",
              "      <th>Training Loss</th>\n",
              "    </tr>\n",
              "  </thead>\n",
              "  <tbody>\n",
              "    <tr>\n",
              "      <td>10</td>\n",
              "      <td>2.490000</td>\n",
              "    </tr>\n",
              "    <tr>\n",
              "      <td>20</td>\n",
              "      <td>1.677900</td>\n",
              "    </tr>\n",
              "    <tr>\n",
              "      <td>30</td>\n",
              "      <td>1.502300</td>\n",
              "    </tr>\n",
              "    <tr>\n",
              "      <td>40</td>\n",
              "      <td>1.281100</td>\n",
              "    </tr>\n",
              "    <tr>\n",
              "      <td>50</td>\n",
              "      <td>1.033400</td>\n",
              "    </tr>\n",
              "    <tr>\n",
              "      <td>60</td>\n",
              "      <td>0.912000</td>\n",
              "    </tr>\n",
              "    <tr>\n",
              "      <td>70</td>\n",
              "      <td>0.794200</td>\n",
              "    </tr>\n",
              "    <tr>\n",
              "      <td>80</td>\n",
              "      <td>0.683100</td>\n",
              "    </tr>\n",
              "    <tr>\n",
              "      <td>90</td>\n",
              "      <td>0.677000</td>\n",
              "    </tr>\n",
              "    <tr>\n",
              "      <td>100</td>\n",
              "      <td>0.571200</td>\n",
              "    </tr>\n",
              "    <tr>\n",
              "      <td>110</td>\n",
              "      <td>0.557900</td>\n",
              "    </tr>\n",
              "    <tr>\n",
              "      <td>120</td>\n",
              "      <td>0.529700</td>\n",
              "    </tr>\n",
              "    <tr>\n",
              "      <td>130</td>\n",
              "      <td>0.532600</td>\n",
              "    </tr>\n",
              "  </tbody>\n",
              "</table><p>"
            ]
          },
          "metadata": {}
        },
        {
          "output_type": "execute_result",
          "data": {
            "text/plain": [
              "('./fine_tuned_gpt2/tokenizer_config.json',\n",
              " './fine_tuned_gpt2/special_tokens_map.json',\n",
              " './fine_tuned_gpt2/vocab.json',\n",
              " './fine_tuned_gpt2/merges.txt',\n",
              " './fine_tuned_gpt2/added_tokens.json',\n",
              " './fine_tuned_gpt2/tokenizer.json')"
            ]
          },
          "metadata": {},
          "execution_count": 28
        }
      ]
    },
    {
      "cell_type": "code",
      "source": [
        "from transformers import AutoModelForCausalLM, AutoTokenizer\n",
        "import torch\n",
        "\n",
        "# Load fine-tuned model\n",
        "model_path = \"./fine_tuned_gpt2\"\n",
        "tokenizer = AutoTokenizer.from_pretrained(model_path)\n",
        "model = AutoModelForCausalLM.from_pretrained(model_path)\n",
        "model.eval()\n"
      ],
      "metadata": {
        "colab": {
          "base_uri": "https://localhost:8080/"
        },
        "id": "JA7BLOWBncGP",
        "outputId": "d67bc55d-321d-4fd1-a6f5-d58ecd885da2"
      },
      "execution_count": 29,
      "outputs": [
        {
          "output_type": "execute_result",
          "data": {
            "text/plain": [
              "GPT2LMHeadModel(\n",
              "  (transformer): GPT2Model(\n",
              "    (wte): Embedding(50257, 768)\n",
              "    (wpe): Embedding(1024, 768)\n",
              "    (drop): Dropout(p=0.1, inplace=False)\n",
              "    (h): ModuleList(\n",
              "      (0-11): 12 x GPT2Block(\n",
              "        (ln_1): LayerNorm((768,), eps=1e-05, elementwise_affine=True)\n",
              "        (attn): GPT2Attention(\n",
              "          (c_attn): Conv1D(nf=2304, nx=768)\n",
              "          (c_proj): Conv1D(nf=768, nx=768)\n",
              "          (attn_dropout): Dropout(p=0.1, inplace=False)\n",
              "          (resid_dropout): Dropout(p=0.1, inplace=False)\n",
              "        )\n",
              "        (ln_2): LayerNorm((768,), eps=1e-05, elementwise_affine=True)\n",
              "        (mlp): GPT2MLP(\n",
              "          (c_fc): Conv1D(nf=3072, nx=768)\n",
              "          (c_proj): Conv1D(nf=768, nx=3072)\n",
              "          (act): NewGELUActivation()\n",
              "          (dropout): Dropout(p=0.1, inplace=False)\n",
              "        )\n",
              "      )\n",
              "    )\n",
              "    (ln_f): LayerNorm((768,), eps=1e-05, elementwise_affine=True)\n",
              "  )\n",
              "  (lm_head): Linear(in_features=768, out_features=50257, bias=False)\n",
              ")"
            ]
          },
          "metadata": {},
          "execution_count": 29
        }
      ]
    },
    {
      "cell_type": "code",
      "source": [
        "def generate_response_fixed(question, max_length=100):\n",
        "    prompt = f\"Question: {question}\\nAnswer:\"\n",
        "    inputs = tokenizer(prompt, return_tensors=\"pt\")\n",
        "\n",
        "    with torch.no_grad():\n",
        "        output = model.generate(\n",
        "            **inputs,\n",
        "            max_length=max_length,\n",
        "            pad_token_id=tokenizer.eos_token_id,\n",
        "            temperature=0.7,\n",
        "            top_p=0.9,\n",
        "            repetition_penalty=2.0,\n",
        "            do_sample=True,\n",
        "            num_beams=4,\n",
        "            early_stopping=True\n",
        "        )\n",
        "\n",
        "    response = tokenizer.decode(output[0], skip_special_tokens=True)\n",
        "\n",
        "    # Post-process to clean repeated or extra responses\n",
        "    if \"Answer:\" in response:\n",
        "        response = response.split(\"Answer:\")[1].strip()\n",
        "        response = response.split(\"\\n\")[0].strip()\n",
        "\n",
        "    return response\n"
      ],
      "metadata": {
        "id": "1uITAwAyndqE"
      },
      "execution_count": 30,
      "outputs": []
    },
    {
      "cell_type": "code",
      "source": [
        "question = \"Do you provide services for special needs customers?\"\n",
        "print(\"🛎️ Question:\", question)\n",
        "print(\"🤖 Response:\", generate_response_fixed(question))\n"
      ],
      "metadata": {
        "colab": {
          "base_uri": "https://localhost:8080/"
        },
        "id": "AswdWTmFnfaa",
        "outputId": "5e4c986b-8f0f-413e-b496-a28a819e7f6f"
      },
      "execution_count": 35,
      "outputs": [
        {
          "output_type": "stream",
          "name": "stdout",
          "text": [
            "🛎️ Question: Do you provide services for special needs customers?\n",
            "🤖 Response: Yes, we provide services tailored for customers with special needs. You can book through our website or by calling us.\n"
          ]
        }
      ]
    },
    {
      "cell_type": "code",
      "source": [
        "question = \"Is there an additional charge for long hair?\"\n",
        "print(\"🛎️ Question:\", question)\n",
        "print(\"🤖 Response:\", generate_response_fixed(question))"
      ],
      "metadata": {
        "colab": {
          "base_uri": "https://localhost:8080/"
        },
        "id": "yg3_RE60tg6E",
        "outputId": "ac7c1774-fadd-4b53-bfd2-a2991888b960"
      },
      "execution_count": 36,
      "outputs": [
        {
          "output_type": "stream",
          "name": "stdout",
          "text": [
            "🛎️ Question: Is there an additional charge for long hair?\n",
            "🤖 Response: Yes, long hair services may have an additional charge depending on the length. Long hair services may have an additional charge depending on the length. What services do you provide? Long hair services may have an additional charge depending on the length. What services do you provide? Long hair services may have an additional charge depending on the length. What services do you provide? Long hair services may have an additional charge depending on the length. What\n"
          ]
        }
      ]
    },
    {
      "cell_type": "code",
      "source": [
        "question = \"Who is your best barber?\"\n",
        "print(\"🛎️ Question:\", question)\n",
        "print(\"🤖 Response:\", generate_response_fixed(question))"
      ],
      "metadata": {
        "colab": {
          "base_uri": "https://localhost:8080/"
        },
        "id": "lPbJL503tzL8",
        "outputId": "ec0c0872-5f7d-4301-e133-b6bc3b78c3cb"
      },
      "execution_count": 37,
      "outputs": [
        {
          "output_type": "stream",
          "name": "stdout",
          "text": [
            "🛎️ Question: Who is your best barber?\n",
            "🤖 Response: John is our most experienced barber with more than 30 years of experience. We have a wide selection of styles to choose from, including classic cuts, undercuts, and many more. You can also check out our website to find out more about our services.\n"
          ]
        }
      ]
    }
  ]
}